{
 "cells": [
  {
   "cell_type": "code",
   "execution_count": 36,
   "metadata": {},
   "outputs": [],
   "source": [
    "import pandas as pd\n",
    "import numpy as np\n",
    "import xml.etree.cElementTree as et\n",
    "import glob"
   ]
  },
  {
   "cell_type": "code",
   "execution_count": null,
   "metadata": {},
   "outputs": [],
   "source": [
    "!git clone \"https://github.com/abachaa/MedQuAD.git\""
   ]
  },
  {
   "cell_type": "code",
   "execution_count": 52,
   "metadata": {},
   "outputs": [],
   "source": [
    "dir_name = 'MedQuAD-master/*/*'\n",
    "questions = []\n",
    "answers = []\n",
    "\n",
    "# Extract all the questions and answers from the repo\n",
    "for filename in glob.glob(dir_name):\n",
    "    tree=et.parse(filename)\n",
    "    root=tree.getroot()\n",
    "    \n",
    "    if not root.find('QAPairs'):\n",
    "        continue\n",
    "    elif not root.find('QAPairs').findall('QAPair'):\n",
    "        continue\n",
    "        \n",
    "    for pair in root.find('QAPairs').findall('QAPair'):\n",
    "        question, answer = pair[0].text, pair[1].text\n",
    "\n",
    "        if question == '' or answer == '':\n",
    "            continue\n",
    "\n",
    "        questions.append(question)\n",
    "        answers.append(answer)\n",
    "    "
   ]
  },
  {
   "cell_type": "code",
   "execution_count": 53,
   "metadata": {},
   "outputs": [
    {
     "name": "stdout",
     "output_type": "stream",
     "text": [
      "11274\n"
     ]
    }
   ],
   "source": [
    "print(len(glob.glob(dir_name)))"
   ]
  },
  {
   "cell_type": "code",
   "execution_count": 64,
   "metadata": {},
   "outputs": [
    {
     "name": "stdout",
     "output_type": "stream",
     "text": [
      "47441\n"
     ]
    }
   ],
   "source": [
    "assert len(questions) == len(answers)\n",
    "print(len(questions))"
   ]
  },
  {
   "cell_type": "code",
   "execution_count": 57,
   "metadata": {},
   "outputs": [],
   "source": [
    "# Put into dataframe\n",
    "qna_df = Jobs_df = pd.DataFrame(\n",
    "                       list(zip(questions, answers)), \n",
    "                       columns=['Question', 'Answer'])"
   ]
  },
  {
   "cell_type": "code",
   "execution_count": 62,
   "metadata": {},
   "outputs": [],
   "source": [
    "# Drop the null values\n",
    "qna_df = qna_df.dropna()"
   ]
  },
  {
   "cell_type": "code",
   "execution_count": 63,
   "metadata": {},
   "outputs": [
    {
     "data": {
      "text/html": [
       "<div>\n",
       "<style scoped>\n",
       "    .dataframe tbody tr th:only-of-type {\n",
       "        vertical-align: middle;\n",
       "    }\n",
       "\n",
       "    .dataframe tbody tr th {\n",
       "        vertical-align: top;\n",
       "    }\n",
       "\n",
       "    .dataframe thead th {\n",
       "        text-align: right;\n",
       "    }\n",
       "</style>\n",
       "<table border=\"1\" class=\"dataframe\">\n",
       "  <thead>\n",
       "    <tr style=\"text-align: right;\">\n",
       "      <th></th>\n",
       "      <th>Question</th>\n",
       "      <th>Answer</th>\n",
       "    </tr>\n",
       "  </thead>\n",
       "  <tbody>\n",
       "    <tr>\n",
       "      <th>count</th>\n",
       "      <td>16407</td>\n",
       "      <td>16407</td>\n",
       "    </tr>\n",
       "    <tr>\n",
       "      <th>unique</th>\n",
       "      <td>14979</td>\n",
       "      <td>15817</td>\n",
       "    </tr>\n",
       "    <tr>\n",
       "      <th>top</th>\n",
       "      <td>What causes Causes of Diabetes ?</td>\n",
       "      <td>This condition is inherited in an autosomal re...</td>\n",
       "    </tr>\n",
       "    <tr>\n",
       "      <th>freq</th>\n",
       "      <td>20</td>\n",
       "      <td>348</td>\n",
       "    </tr>\n",
       "  </tbody>\n",
       "</table>\n",
       "</div>"
      ],
      "text/plain": [
       "                                Question  \\\n",
       "count                              16407   \n",
       "unique                             14979   \n",
       "top     What causes Causes of Diabetes ?   \n",
       "freq                                  20   \n",
       "\n",
       "                                                   Answer  \n",
       "count                                               16407  \n",
       "unique                                              15817  \n",
       "top     This condition is inherited in an autosomal re...  \n",
       "freq                                                  348  "
      ]
     },
     "execution_count": 63,
     "metadata": {},
     "output_type": "execute_result"
    }
   ],
   "source": [
    "qna_df.describe()"
   ]
  },
  {
   "cell_type": "code",
   "execution_count": 74,
   "metadata": {},
   "outputs": [
    {
     "data": {
      "text/html": [
       "<div>\n",
       "<style scoped>\n",
       "    .dataframe tbody tr th:only-of-type {\n",
       "        vertical-align: middle;\n",
       "    }\n",
       "\n",
       "    .dataframe tbody tr th {\n",
       "        vertical-align: top;\n",
       "    }\n",
       "\n",
       "    .dataframe thead th {\n",
       "        text-align: right;\n",
       "    }\n",
       "</style>\n",
       "<table border=\"1\" class=\"dataframe\">\n",
       "  <thead>\n",
       "    <tr style=\"text-align: right;\">\n",
       "      <th></th>\n",
       "      <th>Question</th>\n",
       "      <th>Answer</th>\n",
       "    </tr>\n",
       "  </thead>\n",
       "  <tbody>\n",
       "    <tr>\n",
       "      <th>count</th>\n",
       "      <td>14979</td>\n",
       "      <td>14979</td>\n",
       "    </tr>\n",
       "    <tr>\n",
       "      <th>unique</th>\n",
       "      <td>14979</td>\n",
       "      <td>14461</td>\n",
       "    </tr>\n",
       "    <tr>\n",
       "      <th>top</th>\n",
       "      <td>How many people are affected by periventricula...</td>\n",
       "      <td>This condition is inherited in an autosomal re...</td>\n",
       "    </tr>\n",
       "    <tr>\n",
       "      <th>freq</th>\n",
       "      <td>1</td>\n",
       "      <td>339</td>\n",
       "    </tr>\n",
       "  </tbody>\n",
       "</table>\n",
       "</div>"
      ],
      "text/plain": [
       "                                                 Question  \\\n",
       "count                                               14979   \n",
       "unique                                              14979   \n",
       "top     How many people are affected by periventricula...   \n",
       "freq                                                    1   \n",
       "\n",
       "                                                   Answer  \n",
       "count                                               14979  \n",
       "unique                                              14461  \n",
       "top     This condition is inherited in an autosomal re...  \n",
       "freq                                                  339  "
      ]
     },
     "execution_count": 74,
     "metadata": {},
     "output_type": "execute_result"
    }
   ],
   "source": [
    "# Drop duplicate questions\n",
    "\n",
    "qna_df = qna_df.drop_duplicates(subset=['Question']).describe()"
   ]
  },
  {
   "cell_type": "code",
   "execution_count": 76,
   "metadata": {},
   "outputs": [
    {
     "data": {
      "text/html": [
       "<div>\n",
       "<style scoped>\n",
       "    .dataframe tbody tr th:only-of-type {\n",
       "        vertical-align: middle;\n",
       "    }\n",
       "\n",
       "    .dataframe tbody tr th {\n",
       "        vertical-align: top;\n",
       "    }\n",
       "\n",
       "    .dataframe thead th {\n",
       "        text-align: right;\n",
       "    }\n",
       "</style>\n",
       "<table border=\"1\" class=\"dataframe\">\n",
       "  <thead>\n",
       "    <tr style=\"text-align: right;\">\n",
       "      <th></th>\n",
       "      <th>Question</th>\n",
       "      <th>Answer</th>\n",
       "    </tr>\n",
       "  </thead>\n",
       "  <tbody>\n",
       "    <tr>\n",
       "      <th>47436</th>\n",
       "      <td>What is (are) Parasites - Zoonotic Hookworm ?</td>\n",
       "      <td>There are many different species of hookworms,...</td>\n",
       "    </tr>\n",
       "    <tr>\n",
       "      <th>47437</th>\n",
       "      <td>Who is at risk for Parasites - Zoonotic Hookwo...</td>\n",
       "      <td>Dog and cat hookworms are found throughout the...</td>\n",
       "    </tr>\n",
       "    <tr>\n",
       "      <th>47438</th>\n",
       "      <td>How to diagnose Parasites - Zoonotic Hookworm ?</td>\n",
       "      <td>Cutaneous larva migrans (CLM) is a clinical di...</td>\n",
       "    </tr>\n",
       "    <tr>\n",
       "      <th>47439</th>\n",
       "      <td>What are the treatments for Parasites - Zoonot...</td>\n",
       "      <td>The zoonotic hookworm larvae that cause cutane...</td>\n",
       "    </tr>\n",
       "    <tr>\n",
       "      <th>47440</th>\n",
       "      <td>How to prevent Parasites - Zoonotic Hookworm ?</td>\n",
       "      <td>Wearing shoes and taking other protective meas...</td>\n",
       "    </tr>\n",
       "  </tbody>\n",
       "</table>\n",
       "</div>"
      ],
      "text/plain": [
       "                                                Question  \\\n",
       "47436      What is (are) Parasites - Zoonotic Hookworm ?   \n",
       "47437  Who is at risk for Parasites - Zoonotic Hookwo...   \n",
       "47438    How to diagnose Parasites - Zoonotic Hookworm ?   \n",
       "47439  What are the treatments for Parasites - Zoonot...   \n",
       "47440     How to prevent Parasites - Zoonotic Hookworm ?   \n",
       "\n",
       "                                                  Answer  \n",
       "47436  There are many different species of hookworms,...  \n",
       "47437  Dog and cat hookworms are found throughout the...  \n",
       "47438  Cutaneous larva migrans (CLM) is a clinical di...  \n",
       "47439  The zoonotic hookworm larvae that cause cutane...  \n",
       "47440  Wearing shoes and taking other protective meas...  "
      ]
     },
     "execution_count": 76,
     "metadata": {},
     "output_type": "execute_result"
    }
   ],
   "source": [
    "qna_df.tail()"
   ]
  },
  {
   "cell_type": "code",
   "execution_count": 77,
   "metadata": {},
   "outputs": [],
   "source": [
    "qna_df.to_csv('MedQuAD-master.csv', index=False)"
   ]
  },
  {
   "cell_type": "code",
   "execution_count": null,
   "metadata": {},
   "outputs": [],
   "source": [
    "############################## Below here is for testing purpose only ##############################"
   ]
  },
  {
   "cell_type": "code",
   "execution_count": 7,
   "metadata": {},
   "outputs": [],
   "source": [
    "tree=et.parse('MedQuAD-master/7_SeniorHealth_QA/0000005.xml')\n",
    "\n",
    "root=tree.getroot()"
   ]
  },
  {
   "cell_type": "code",
   "execution_count": 45,
   "metadata": {},
   "outputs": [
    {
     "name": "stdout",
     "output_type": "stream",
     "text": [
      "What is (are) Anxiety Disorders ? Occasional anxiety is a normal part of life. You might feel anxious when faced with a problem at work, before taking a test, or making an important decision. However, anxiety disorders involve more than temporary worry or fear. For a person with an anxiety disorder, the anxiety does not go away and can get worse over time. These feelings can interfere with daily activities such as job performance, school work, and relationships. (Watch the video to learn about the types of anxiety disorders. To enlarge the video, click the brackets in the lower right-hand corner. To reduce the video, press the Escape (Esc) button on your keyboard.) Anxiety Disorders in Older Adults Studies estimate that anxiety disorders affect up to 15 percent of older adults in a given year. More women than men experience anxiety disorders. They tend to be less common among older adults than younger adults. But developing an anxiety disorder late in life is not a normal part of aging. Anxiety disorders commonly occur along with other mental or physical illnesses, including alcohol or substance abuse, which may mask anxiety symptoms or make them worse. In older adults, anxiety disorders often occur at the same time as depression, heart disease, diabetes, and other medical problems. In some cases, these other problems need to be treated before a person can respond well to treatment for anxiety. There are three types of anxiety disorders discussed here. - generalized anxiety disorder  - social phobia  - panic disorder generalized anxiety disorder social phobia panic disorder Generalized Anxiety Disorder (GAD) All of us worry about things like health, money, or family problems. But people with generalized anxiety disorder (GAD) are extremely worried about these and many other things, even when there is little or no reason to worry about them. They are very anxious about just getting through the day. They think things will always go badly. At times, worrying keeps people with GAD from doing everyday tasks.  Learn more about generalized anxiety disorder (GAD).  Social Phobia In social phobia, a person fears being judged by others or of being embarrassed. This fear can get in the way of doing everyday things such as going to work, running errands, or meeting with friends. People who have social phobia often know that they shouldn't be so afraid, but they can't control their fear.  Learn more about social phobia.  Panic Disorder In panic disorder, a person has sudden, unexplained attacks of terror, and often feels his or her heart pounding. During a panic attack, a person feels a sense of unreality, a fear of impending doom, or a fear of losing control. Panic attacks can occur at any time. Learn more about panic disorder.  Anxiety Disorders Are Treatable In general, anxiety disorders are treated with medication, specific types of psychotherapy, or both. Treatment choices depend on the type of disorder, the persons preference, and the expertise of the doctor. If you think you have an anxiety disorder, talk to your doctor.\n",
      "What are the symptoms of Anxiety Disorders ? Excessive, Irrational Fear Each anxiety disorder has different symptoms, but all the symptoms cluster around excessive, irrational fear and dread. Unlike the relatively mild, brief anxiety caused by a specific event (such as speaking in public or a first date), severe anxiety that lasts at least six months is generally considered to be problem that might benefit from evaluation and treatment. Anxiety disorders commonly occur along with other mental or physical illnesses, including alcohol or substance abuse, which may mask anxiety symptoms or make them worse. In older adults, anxiety disorders often occur at the same time as depression, heart disease, diabetes, and other medical problems. In some cases, these other problems need to be treated before a person can respond well to treatment for anxiety. Symptoms of Generalized Anxiety Disorder (GAD) GAD develops slowly. It often starts during the teen years or young adulthood. Symptoms may get better or worse at different times, and often are worse during times of stress. People with GAD cant seem to get rid of their concerns, even though they usually realize that their anxiety is more intense than the situation warrants. They cant relax, startle easily, and have difficulty concentrating. Often they have trouble falling asleep or staying asleep. Physical symptoms that often accompany the anxiety include - fatigue  - headaches  - muscle tension  - muscle aches  - difficulty swallowing  - trembling  - twitching  - irritability  - sweating  -  nausea  - lightheadedness  - having to go to the bathroom frequently  - feeling out of breath  -  hot flashes.  fatigue headaches muscle tension muscle aches difficulty swallowing trembling twitching irritability sweating nausea lightheadedness having to go to the bathroom frequently feeling out of breath hot flashes. When their anxiety level is mild, people with GAD can function socially and hold down a job. Although they dont avoid certain situations as a result of their disorder, people with GAD can have difficulty carrying out the simplest daily activities if their anxiety is severe. Symptoms of Social Phobia In social phobia, a person fears being judged by others or of being embarrassed. This fear can get in the way of doing everyday things such as going to work, running errands or meeting with friends. People who have social phobia often know that they shouldn't be so afraid, but they can't control their fear. People with social phobia tend to -  be very anxious about being with other people and have a hard time talking to them, even though they wish they could  - be very self-conscious in front of other people and feel embarrassed  - be very afraid that other people will judge them  - worry for days or weeks before an event where other people will be  - stay away from places where there are other people  - have a hard time making friends and keeping friends  -  blush, sweat, or tremble around other people  -  feel nauseous or sick to their stomach when with other people. be very anxious about being with other people and have a hard time talking to them, even though they wish they could be very self-conscious in front of other people and feel embarrassed be very afraid that other people will judge them worry for days or weeks before an event where other people will be stay away from places where there are other people have a hard time making friends and keeping friends blush, sweat, or tremble around other people feel nauseous or sick to their stomach when with other people. Symptoms of Panic Disorder In panic disorder, a person has sudden, unexplained attacks of terror, and often feels his or her heart pounding. During a panic attack, a person feels a sense of unreality, a fear of impending doom, or a fear of losing control. Panic attacks can occur at any time. People with panic disorder may have - sudden and repeated attacks of fear  - a feeling of being out of control during a panic attack  - an intense worry about when the next attack will happen  - a fear or avoidance of places where panic attacks have occurred in the past  - physical symptoms during an attack, such as a pounding or racing heart, sweating, breathing problems, weakness or dizziness, feeling hot or a cold chill, tingly or numb hands, chest pain, or stomach pain.  sudden and repeated attacks of fear a feeling of being out of control during a panic attack an intense worry about when the next attack will happen a fear or avoidance of places where panic attacks have occurred in the past physical symptoms during an attack, such as a pounding or racing heart, sweating, breathing problems, weakness or dizziness, feeling hot or a cold chill, tingly or numb hands, chest pain, or stomach pain. Seeking Treatment Anxiety disorders are treatable. If you think you have an anxiety disorder, talk to your doctor. If your doctor thinks you may have an anxiety disorder, the next step is usually seeing a mental health professional. It is advisable to seek help from professionals who have particular expertise in diagnosing and treating anxiety. Certain kinds of cognitive and behavioral therapy and certain medications have been found to be especially helpful for anxiety.\n",
      "How to diagnose Anxiety Disorders ? Anxiety disorders sometimes run in families, but no one knows for sure why some people have them while others don't. Anxiety disorders are more common among younger adults than older adults, and they typically start in early life. However, anyone can develop an anxiety disorder at any time. Below are risk factors for these anxiety disorders. - Generalized Anxiety Disorder (GAD)  -  Social Anxiety Disorder (Social Phobia)  - Panic Disorder Generalized Anxiety Disorder (GAD) Social Anxiety Disorder (Social Phobia) Panic Disorder Generalized Anxiety Disorder - Risk Factors Generalized anxiety disorder (GAD) affects about 6.8 million American adults, including twice as many women as men. The disorder develops gradually and can begin at any point in the life cycle, although the years of highest risk are between childhood and middle age. The average age of onset is 31 years old. Social Phobia - Risk Factors Social phobia affects about 15 million American adults. Women and men are equally likely to develop the disorder, which usually begins in childhood or early adolescence. There is some evidence that genetic factors are involved. Panic Disorder - Risk Factors Panic disorder affects about 6 million American adults and is twice as common in women as men. Panic attacks often begin in late adolescence or early adulthood, but not everyone who experiences panic attacks will develop panic disorder. Many people have just one attack and never have another. The tendency to develop panic attacks appears to be inherited. Diagnosis Can Be Difficult There are a number of reasons why it can be difficult to accurately diagnose an anxiety disorder in older adults. - Anxiety disorders among older adults frequently occur at the same time as other illnesses such as depression, diabetes, heart disease, or a number of other medical illnesses. Problems with cognition (thinking) and changes in life circumstances can also complicate matters. Sometimes the physical signs of these illnesses can get mixed up with the symptoms of anxiety, making it difficult to determine if a person has a true anxiety disorder. For instance, a person with heart disease sometimes has chest pain, which can also be a symptom of a panic disorder.  Anxiety disorders among older adults frequently occur at the same time as other illnesses such as depression, diabetes, heart disease, or a number of other medical illnesses. Problems with cognition (thinking) and changes in life circumstances can also complicate matters. Sometimes the physical signs of these illnesses can get mixed up with the symptoms of anxiety, making it difficult to determine if a person has a true anxiety disorder. For instance, a person with heart disease sometimes has chest pain, which can also be a symptom of a panic disorder. -  Doctors can have difficulty distinguishing between anxiety caused by adapting to difficult life changes, and a true anxiety disorder. For example, if you fell and broke a hip, you may be justifiably fearful of going out for a while. But that would not mean you have developed an anxiety disorder. Doctors can have difficulty distinguishing between anxiety caused by adapting to difficult life changes, and a true anxiety disorder. For example, if you fell and broke a hip, you may be justifiably fearful of going out for a while. But that would not mean you have developed an anxiety disorder. - Sometimes the worrying symptoms of a medical illness can lead to an anxiety disorder. Or, sometimes the side effects of medication can cause anxiety. Also, a disability or a change in lifestyle caused by a medical illness may lead to an anxiety disorder. Muscle tightness, feeling very tense all the time, and difficulty sleeping can also be symptoms of a physical illness or an anxiety disorder, complicating diagnosis. Sometimes the worrying symptoms of a medical illness can lead to an anxiety disorder. Or, sometimes the side effects of medication can cause anxiety. Also, a disability or a change in lifestyle caused by a medical illness may lead to an anxiety disorder. Muscle tightness, feeling very tense all the time, and difficulty sleeping can also be symptoms of a physical illness or an anxiety disorder, complicating diagnosis. Diagnosis Here is how these anxiety disorders are diagnosed. - Generalized Anxiety Disorder (GAD)  - Panic Disorder  - Social Anxiety Disorder (Social Phobia) Generalized Anxiety Disorder (GAD) Panic Disorder Social Anxiety Disorder (Social Phobia) Generalized Anxiety Disorder (GAD) - Diagnosis GAD can be diagnosed once a person worries excessively about a variety of everyday problems for at least 6 months. People with GAD may visit a doctor many times before they find out they have this disorder. They ask their doctors to help them with headaches or trouble falling asleep, which can be symptoms of GAD, but they don't always get the help they need right away. It may take doctors some time to be sure that a person has GAD instead of something else. Social Phobia - Diagnosis A doctor can tell that a person has social phobia if the person has had symptoms for at least 6 months. Social phobia usually starts during youth. Without treatment, it can last for many years or a lifetime. Panic Disorder - Diagnosis People with panic disorder may sometimes go from doctor to doctor for years and visit the emergency room repeatedly before someone correctly diagnoses their condition. This is unfortunate, because panic disorder is one of the most treatable of all the anxiety disorders, responding in most cases to certain kinds of medication or certain kinds of cognitive psychotherapy, which help change thinking patterns that lead to fear and anxiety. If You Have Symptoms Anxiety disorders are treatable. If you think you have an anxiety disorder, talk to your family doctor. Your doctor should do an exam to make sure that another physical problem isn't causing the symptoms. The doctor may refer you to a mental health specialist. You should feel comfortable talking with the mental health specialist you choose. If you do not, seek help elsewhere. Once you find a mental health specialist you are comfortable with, you should work as a team and make a plan to treat your anxiety disorder together. Talk About About Past Treatment People with anxiety disorders who have already received treatment for an anxiety disorder should tell their doctor about that treatment in detail. If they received medication, they should tell their doctor what medication was used, what the dosage was at the beginning of treatment, whether the dosage was increased or decreased while they were under treatment, what side effects may have occurred, and whether the treatment helped them become less anxious. If they received psychotherapy, they should describe the type of therapy, how often they attended sessions, and whether the therapy was useful.\n",
      "what research (or clinical trials) is being done for Anxiety Disorders ? Clinical trials are part of clinical research and at the heart of all treatment advances. Clinical trials look at new ways to prevent, detect, or treat disease. The National Institute of Mental Health at NIH supports research studies on mental health and disorders. To learn how clinical trials work, see  Participating in Clinical Trials. To see NIH-funded studies currently recruiting participants in anxiety disorders, visit www.ClinicalTrials.gov  and type in \"anxiety disorders.\" Clinical Trials.gov is the NIH/National Library of Medicine's registry of federally and privately funded clinical trials for all disease. To see personal stories of people who have volunteered for clinical trials, visit  NIH Clinical Trials Research and You.\n",
      "How many people are affected by Anxiety Disorders ? Studies estimate that anxiety disorders affect around 15 percent of older adults in a given year. More women than men experience anxiety disorders. They tend to be less common among older adults than younger adults. But developing an anxiety disorder late in life is not a normal part of aging.\n",
      "What is (are) Anxiety Disorders ? Anxiety disorders are a collection of disorders that include generalized anxiety disorder (GAD), social phobia, and panic disorder.\n",
      "What is (are) Anxiety Disorders ? All of us worry about things like health, money, or family problems. But people with generalized anxiety disorder (GAD) are extremely worried about these and many other things, even when there is little or no reason to worry about them. They are very anxious about just getting through the day. They think things will always go badly. At times, worrying keeps people with GAD from doing everyday tasks. People with GAD cant seem to get rid of their concerns, even though they usually realize that their anxiety is more intense than the situation warrants. They cant relax, startle easily, and have difficulty concentrating. Often they have trouble falling asleep or staying asleep. Physical symptoms that often accompany the anxiety include fatigue, headaches, muscle tension, muscle aches, difficulty swallowing, trembling, twitching, irritability, sweating, nausea, lightheadedness, having to go to the bathroom frequently, feeling out of breath, and hot flashes. When their anxiety level is mild, people with GAD can function socially and hold down a job. Although they dont avoid certain situations as a result of their disorder, people with GAD can have difficulty carrying out the simplest daily activities if their anxiety is severe.  Learn more about generalized anxiety disorder (GAD).\n",
      "What is (are) Anxiety Disorders ? In social phobia, a person fears being judged by others or of being embarrassed. This fear can get in the way of doing everyday things such as going to work, running errands or meeting with friends. People who have social phobia often know that they shouldn't be so afraid, but they can't control their fear. People with social phobia tend to -  be very anxious about being with other people and have a hard time talking to them, even though they wish they could  - be very self-conscious in front of other people and feel embarrassed  - be very afraid that other people will judge them  - worry for days or weeks before an event where other people will be  - stay away from places where there are other people  - have a hard time making friends and keeping friends  -  blush, sweat, or tremble around other people  -  feel nauseous or sick to their stomach when with other people. be very anxious about being with other people and have a hard time talking to them, even though they wish they could be very self-conscious in front of other people and feel embarrassed be very afraid that other people will judge them worry for days or weeks before an event where other people will be stay away from places where there are other people have a hard time making friends and keeping friends blush, sweat, or tremble around other people feel nauseous or sick to their stomach when with other people.  Learn more about social phobia.\n",
      "What is (are) Anxiety Disorders ? In panic disorder, a person has sudden, unexplained attacks of terror, and often feels his or her heart pounding. During a panic attack, a person feels a sense of unreality, a fear of impending doom, or a fear of losing control. Panic attacks can occur at any time. People with panic disorder may have - sudden and repeated attacks of fear  - a feeling of being out of control during a panic attack  - an intense worry about when the next attack will happen  - a fear or avoidance of places where panic attacks have occurred in the past  - physical symptoms during an attack, such as a pounding or racing heart, sweating, breathing problems, weakness or dizziness, feeling hot or a cold chill, tingly or numb hands, chest pain, or stomach pain.  sudden and repeated attacks of fear a feeling of being out of control during a panic attack an intense worry about when the next attack will happen a fear or avoidance of places where panic attacks have occurred in the past physical symptoms during an attack, such as a pounding or racing heart, sweating, breathing problems, weakness or dizziness, feeling hot or a cold chill, tingly or numb hands, chest pain, or stomach pain. Learn more about panic disorder.\n",
      "Who is at risk for Anxiety Disorders? ? Generalized anxiety disorder (GAD) affects about 6.8 million American adults, including twice as many women as men. The disorder develops gradually and can begin at any point in the life cycle, although the years of highest risk are between childhood and middle age. The average age of onset is 31 years old. Social phobia affects about 15 million American adults. Women and men are equally likely to develop the disorder, which usually begins in childhood or early adolescence. There is some evidence that genetic factors are involved.  Panic disorder  affects about 6 million American adults and is twice as common in women as men. Panic attacks often begin in late adolescence or early adulthood, but not everyone who experiences panic attacks will develop panic disorder. Many people have just one attack and never have another. The tendency to develop panic attacks appears to be inherited.\n",
      "What are the treatments for Anxiety Disorders ? Most insurance plans, including health maintenance organizations (HMOs), will cover treatment for anxiety disorders. Check with your insurance company and find out. If you dont have insurance, the Health and Human Services division of your county government may offer mental health care at a public mental health center that charges people according to how much they are able to pay. If you are on public assistance, you may be able to get care through your state Medicaid plan. To learn about more mental health resources, see  Help for Mental Illness,  from the National Institute of Mental Health at NIH.\n",
      "What is (are) Anxiety Disorders ? Cognitive behavioral therapy (CBT) is a type of psychotherapy that is very useful in treating anxiety disorders. It can help people change the thinking patterns that support their fears and change the way they react to anxiety-provoking situations. For example, cognitive behavioral therapy can help people with panic disorder learn that their panic attacks are not really heart attacks and help people with social phobia learn how to overcome the belief that others are always watching and judging them. When people are ready to confront their fears, they are shown how to use exposure techniques to desensitize themselves to situations that trigger their anxieties.\n",
      "What are the treatments for Anxiety Disorders ? Exposure-based treatment has been used for many years to treat specific phobias. The person gradually encounters the object or situation that is feared, perhaps at first only through pictures or tapes, then later face-to-face. Sometimes the therapist will accompany the person to a feared situation to provide support and guidance. Exposure exercises are undertaken once the patient decides he is ready for it and with his cooperation. To be effective, therapy must be directed at the persons specific anxieties and must be tailored to his or her needs. A typical side effect is temporary discomfort involved with thinking about confronting feared situations.\n"
     ]
    }
   ],
   "source": [
    "for pair in root.find('QAPairs').findall('QAPair'):\n",
    "    question, answer = pair[0].text, pair[1].text\n",
    "    if question == '' or answer == '':\n",
    "        continue\n",
    "    print(question, answer)\n"
   ]
  },
  {
   "cell_type": "code",
   "execution_count": 9,
   "metadata": {},
   "outputs": [
    {
     "name": "stdout",
     "output_type": "stream",
     "text": [
      "Focus {}\n",
      "FocusAnnotations {}\n",
      "QAPairs {}\n"
     ]
    }
   ],
   "source": [
    "for child in root:\n",
    "    print(child.tag, child.attrib)"
   ]
  },
  {
   "cell_type": "code",
   "execution_count": 22,
   "metadata": {},
   "outputs": [
    {
     "data": {
      "text/plain": [
       "\"Occasional anxiety is a normal part of life. You might feel anxious when faced with a problem at work, before taking a test, or making an important decision. However, anxiety disorders involve more than temporary worry or fear. For a person with an anxiety disorder, the anxiety does not go away and can get worse over time. These feelings can interfere with daily activities such as job performance, school work, and relationships. (Watch the video to learn about the types of anxiety disorders. To enlarge the video, click the brackets in the lower right-hand corner. To reduce the video, press the Escape (Esc) button on your keyboard.) Anxiety Disorders in Older Adults Studies estimate that anxiety disorders affect up to 15 percent of older adults in a given year. More women than men experience anxiety disorders. They tend to be less common among older adults than younger adults. But developing an anxiety disorder late in life is not a normal part of aging. Anxiety disorders commonly occur along with other mental or physical illnesses, including alcohol or substance abuse, which may mask anxiety symptoms or make them worse. In older adults, anxiety disorders often occur at the same time as depression, heart disease, diabetes, and other medical problems. In some cases, these other problems need to be treated before a person can respond well to treatment for anxiety. There are three types of anxiety disorders discussed here. - generalized anxiety disorder  - social phobia  - panic disorder generalized anxiety disorder social phobia panic disorder Generalized Anxiety Disorder (GAD) All of us worry about things like health, money, or family problems. But people with generalized anxiety disorder (GAD) are extremely worried about these and many other things, even when there is little or no reason to worry about them. They are very anxious about just getting through the day. They think things will always go badly. At times, worrying keeps people with GAD from doing everyday tasks.  Learn more about generalized anxiety disorder (GAD).  Social Phobia In social phobia, a person fears being judged by others or of being embarrassed. This fear can get in the way of doing everyday things such as going to work, running errands, or meeting with friends. People who have social phobia often know that they shouldn't be so afraid, but they can't control their fear.  Learn more about social phobia.  Panic Disorder In panic disorder, a person has sudden, unexplained attacks of terror, and often feels his or her heart pounding. During a panic attack, a person feels a sense of unreality, a fear of impending doom, or a fear of losing control. Panic attacks can occur at any time. Learn more about panic disorder.  Anxiety Disorders Are Treatable In general, anxiety disorders are treated with medication, specific types of psychotherapy, or both. Treatment choices depend on the type of disorder, the persons preference, and the expertise of the doctor. If you think you have an anxiety disorder, talk to your doctor.\""
      ]
     },
     "execution_count": 22,
     "metadata": {},
     "output_type": "execute_result"
    }
   ],
   "source": [
    "root[2][0][1].text"
   ]
  },
  {
   "cell_type": "code",
   "execution_count": null,
   "metadata": {},
   "outputs": [],
   "source": []
  }
 ],
 "metadata": {
  "kernelspec": {
   "display_name": "Python 3",
   "language": "python",
   "name": "python3"
  },
  "language_info": {
   "codemirror_mode": {
    "name": "ipython",
    "version": 3
   },
   "file_extension": ".py",
   "mimetype": "text/x-python",
   "name": "python",
   "nbconvert_exporter": "python",
   "pygments_lexer": "ipython3",
   "version": "3.8.5"
  }
 },
 "nbformat": 4,
 "nbformat_minor": 4
}
